{
 "cells": [
  {
   "cell_type": "code",
   "execution_count": 1,
   "metadata": {},
   "outputs": [],
   "source": [
    "import numpy as np\n",
    "import time\n",
    "start_time = time.time()"
   ]
  },
  {
   "cell_type": "code",
   "execution_count": 2,
   "metadata": {},
   "outputs": [],
   "source": [
    "# First step is to reproduce the Keypad\n",
    "Keypad = np.array([[\"A\",\"B\",\"C\",\"D\",\"E\"],['F','G', 'H', 'I', 'J'],['K','L', 'M', 'N', 'O'],[np.nan,1,2,3,np.nan]],ndmin=2)"
   ]
  },
  {
   "cell_type": "code",
   "execution_count": 3,
   "metadata": {},
   "outputs": [],
   "source": [
    "# This function gives you all the valid knight moves from any starting letter\n",
    "def valid_moves(start_letter, keypad):\n",
    "    start_coord = [np.where(keypad == start_letter)[0][0], np.where(keypad == start_letter)[1][0]]\n",
    "    valid_moves = []\n",
    "    for row in [-2, -1, 1, 2]:\n",
    "        if start_coord[0] + row >= 0:\n",
    "            column = 1 if int(row / 2) == row / 2 else 2\n",
    "            if start_coord[1] + column >= 0:\n",
    "                try:\n",
    "                    valid_moves.append(keypad[(start_coord[0] + row, start_coord[1] + column)])\n",
    "                except IndexError:\n",
    "                    pass\n",
    "            if start_coord[1] - column >= 0:\n",
    "                try:\n",
    "                    valid_moves.append(keypad[(start_coord[0] + row, start_coord[1] - column)])\n",
    "                except IndexError:\n",
    "                    pass\n",
    "    return set([valid_move for valid_move in valid_moves if str(valid_move) != \"nan\"])"
   ]
  },
  {
   "cell_type": "code",
   "execution_count": 4,
   "metadata": {},
   "outputs": [],
   "source": [
    "Valid_moves_list = {}\n",
    "for a in Keypad:\n",
    "    for i in a:\n",
    "        if i != \"nan\":\n",
    "            Valid_moves_list[i] = valid_moves(i,Keypad)"
   ]
  },
  {
   "cell_type": "code",
   "execution_count": 6,
   "metadata": {},
   "outputs": [],
   "source": [
    "# Valid_moves_list"
   ]
  },
  {
   "cell_type": "code",
   "execution_count": 7,
   "metadata": {},
   "outputs": [],
   "source": [
    "def voy_count(seq):\n",
    "    return seq.count(\"A\") + seq.count(\"E\") + seq.count(\"I\") + seq.count(\"O\")"
   ]
  },
  {
   "cell_type": "code",
   "execution_count": 8,
   "metadata": {},
   "outputs": [
    {
     "name": "stdout",
     "output_type": "stream",
     "text": [
      "2.4998714923858643\n"
     ]
    }
   ],
   "source": [
    "# start_time = time.time()\n",
    "\n",
    "Sequences = []\n",
    "for start in Valid_moves_list:\n",
    "    new_seq = [start]\n",
    "    for a in Valid_moves_list[start]:\n",
    "        for b in Valid_moves_list[a]:\n",
    "            for c in Valid_moves_list[b]:\n",
    "                for d in Valid_moves_list[c]:\n",
    "                    for e in Valid_moves_list[d]:\n",
    "                        for f in Valid_moves_list[e]:\n",
    "                            for g in Valid_moves_list[f]:\n",
    "                                for h in Valid_moves_list[g]:\n",
    "                                    for i in Valid_moves_list[h]:\n",
    "                                        new_seq = [start,a,b,c,d,e,f,g,h,i]\n",
    "                                        if voy_count(new_seq) <= 2:\n",
    "                                            Sequences += [new_seq]\n",
    "        \n",
    "end = time.time()\n",
    "print(end - start_time)"
   ]
  },
  {
   "cell_type": "code",
   "execution_count": 9,
   "metadata": {},
   "outputs": [
    {
     "data": {
      "text/plain": [
       "1013398"
      ]
     },
     "execution_count": 9,
     "metadata": {},
     "output_type": "execute_result"
    }
   ],
   "source": [
    "len(Sequences)"
   ]
  },
  {
   "cell_type": "code",
   "execution_count": 10,
   "metadata": {},
   "outputs": [],
   "source": [
    "# # This is a recursive function \n",
    "# def one_letter_sequence(previous_sequence, keypad, all_sequences=[]):\n",
    "    \n",
    "#     if len(previous_sequence) == 9: # we arrive at the end of our sequence so we get the last move and register it into all_sequences \n",
    "#         for possible_move in Valid_moves_list[previous_sequence[-1]]:\n",
    "#             new_sequence = previous_sequence + [possible_move]\n",
    "        \n",
    "#             if new_sequence.count(\"A\") + new_sequence.count(\"E\") + new_sequence.count(\"I\") + new_sequence.count(\"O\") <= 2:\n",
    "#                 all_sequences.append(new_sequence)\n",
    "               \n",
    "#     else: # we have to explore the different paths hence a recursive function \n",
    "#         for possible_move in Valid_moves_list[previous_sequence[-1]]:\n",
    "#             one_letter_sequence(previous_sequence + [possible_move], keypad=keypad, all_sequences=all_sequences)\n",
    "            \n",
    "#     return all_sequences"
   ]
  },
  {
   "cell_type": "code",
   "execution_count": 11,
   "metadata": {
    "scrolled": true
   },
   "outputs": [],
   "source": [
    "# all_paths = []\n",
    "# for start in np.concatenate(Keypad, axis=0): # loop over all keys\n",
    "#     if str(start) != \"nan\":\n",
    "#         all_paths.append(one_letter_sequence([str(start)], Keypad))\n",
    "# solution = all_paths[0]"
   ]
  },
  {
   "cell_type": "code",
   "execution_count": 12,
   "metadata": {},
   "outputs": [],
   "source": [
    "# len(solution)"
   ]
  },
  {
   "cell_type": "code",
   "execution_count": 13,
   "metadata": {},
   "outputs": [],
   "source": [
    "# end = time.time()\n",
    "# print(end - start_time)"
   ]
  },
  {
   "cell_type": "code",
   "execution_count": 14,
   "metadata": {},
   "outputs": [],
   "source": [
    "# # Register the csv for the solution\n",
    "# pd.DataFrame(solution).to_csv(\"Solution.csv\")"
   ]
  }
 ],
 "metadata": {
  "kernelspec": {
   "display_name": "Python 3",
   "language": "python",
   "name": "python3"
  },
  "language_info": {
   "codemirror_mode": {
    "name": "ipython",
    "version": 3
   },
   "file_extension": ".py",
   "mimetype": "text/x-python",
   "name": "python",
   "nbconvert_exporter": "python",
   "pygments_lexer": "ipython3",
   "version": "3.7.4"
  }
 },
 "nbformat": 4,
 "nbformat_minor": 2
}
